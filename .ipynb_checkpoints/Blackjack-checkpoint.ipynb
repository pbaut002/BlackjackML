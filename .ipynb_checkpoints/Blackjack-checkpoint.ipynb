{
 "cells": [
  {
   "cell_type": "markdown",
   "metadata": {},
   "source": [
    "# Blackjack Simulator\n",
    "\n",
    "### What it does\n",
    "   <ul>\n",
    "        <li>Simulate n blackjack games between two players</li>\n",
    "        <li>Uses six decks to simulate casino games</li>\n",
    "        <li>Plots what the player does when comparing their cards to the known dealer dealers</li>\n",
    "   </ul> \n"
   ]
  },
  {
   "cell_type": "markdown",
   "metadata": {},
   "source": [
    "## Import necessary packages"
   ]
  },
  {
   "cell_type": "code",
   "execution_count": 30,
   "metadata": {},
   "outputs": [],
   "source": [
    "import random\n",
    "import pandas as pd\n",
    "import tensorflow as tf\n",
    "from abc import ABC, abstractmethod\n",
    "from math import *"
   ]
  },
  {
   "cell_type": "markdown",
   "metadata": {},
   "source": [
    "## Creating player and dealer classes"
   ]
  },
  {
   "cell_type": "code",
   "execution_count": 31,
   "metadata": {},
   "outputs": [
    {
     "name": "stdout",
     "output_type": "stream",
     "text": [
      "My current cards are 2, with a value of 2. I currently have 0 wins.\n"
     ]
    }
   ],
   "source": [
    "class Player(ABC):\n",
    "    \n",
    "    def __init__(self):\n",
    "        self.__current_cards = []\n",
    "        self.__value = 0\n",
    "        self.wins = 0\n",
    "        self.games_played = 0\n",
    "        self.__aces = 0\n",
    "    \n",
    "    def __str__(self):\n",
    "        to_print = \"My current cards are {0}, with a value of {1}. I currently have {2} wins.\".format(\" \".join(map(str,self.__current_cards)),\n",
    "                                                                                                       self.__value,\n",
    "                                                                                                       self.wins)\n",
    "        return to_print\n",
    "    \n",
    "    def __repr__(self):\n",
    "        if self.games_played > 0:\n",
    "            return str(round(self.wins/self.games_played,2))\n",
    "        return str(0)\n",
    "        \n",
    "    def returnStats(self):\n",
    "        return self.wins/self.games_played\n",
    "    \n",
    "    def seeCards(self):\n",
    "        return self.__current_cards\n",
    "    \n",
    "    def getValue(self):\n",
    "        return self.__value\n",
    "    \n",
    "    def resetCards(self):\n",
    "        self.__current_cards = []\n",
    "        self.__value = 0\n",
    "        self.__aces = 0\n",
    "    \n",
    "    def verifyAmount(self):\n",
    "        ## Verify the amount of the player and see if they win or lose\n",
    "        \n",
    "        if self.__value > 21:\n",
    "            return 'L'\n",
    "        elif self.__value == 21:\n",
    "            return 'W'\n",
    "        else:\n",
    "            return 'C'\n",
    "        \n",
    "    def giveCard(self, card):\n",
    "        ## Give a player a card and update the value, their hand and then verify the amount that they have\n",
    "        \n",
    "        self.__current_cards.append(card)\n",
    "        self.__updateValue(card)\n",
    "        self.verifyAmount()\n",
    "    \n",
    "    def __updateValue(self, card):\n",
    "        ## Updates the player's hand values depending on what card they get\n",
    "        \n",
    "        if(card in ['Q','J','K']):\n",
    "            card = 10\n",
    "        if card == 1 and self.__value + 11 < 21:\n",
    "            # If the value of the card is a one, then it can either be 11 or just 1\n",
    "            self.__value += 11\n",
    "            self.__aces += 1\n",
    "        \n",
    "        elif self.__aces > 0 and self.__value + card > 21:\n",
    "            #If we have a lot of aces and their value if they were 11 exceeds 21, then convert them into ones\n",
    "            self.__value -= 11\n",
    "            self.__aces -= 1\n",
    "            self.__value += card + 1\n",
    "        \n",
    "        else:\n",
    "            self.__value += card\n",
    "    \n",
    "    def updatePlayer(self, winOrLose):\n",
    "        if winOrLose == True:\n",
    "            #Player won\n",
    "            self.wins += 1\n",
    "        self.games_played += 1\n",
    "   \n",
    "    @abstractmethod\n",
    "    def makeDecision(self, oppositeValue):\n",
    "        pass\n",
    "        \n",
    "        \n",
    "class Dealer(Player):\n",
    "    \n",
    "    def __init__(self):\n",
    "        Player.__init__(self)\n",
    "        self.__deckOfCards = {}\n",
    "        self.__firstTurn = 0\n",
    "        for x in range(1, 11):\n",
    "            self.__deckOfCards[x] = 24\n",
    "        self.__deckOfCards['Q'] = 24\n",
    "        self.__deckOfCards['J'] = 24\n",
    "        self.__deckOfCards['K'] = 24\n",
    "    \n",
    "    def playerHit(self, Player):\n",
    "        self.__firstTurn += 1\n",
    "        while(True):\n",
    "            card = random.choice(list(self.__deckOfCards))\n",
    "\n",
    "            if(self.__deckOfCards[card] > 0):\n",
    "                self.__deckOfCards[card] -= 1\n",
    "                break\n",
    "        Player.giveCard(card)\n",
    "    \n",
    "    def seeCards(self):\n",
    "        if self.__firstTurn <= 2:\n",
    "            return Player.seeCards(self)[0]\n",
    "        else:\n",
    "            return Player.seeCards(self)\n",
    "    \n",
    "    def makeDecision(self, oppositeValue):\n",
    "        if random.randint(0,2) == 1:\n",
    "            return True # Indicates hit and get another card\n",
    "        else:\n",
    "            return False\n",
    "    \n",
    "    def resetCards(self):\n",
    "        Player.resetCards(self)\n",
    "        self.__firstTurn = True\n",
    "        for x in range(1, 11):\n",
    "            self.__deckOfCards[x] = 24\n",
    "        self.__deckOfCards['Q'] = 24\n",
    "        self.__deckOfCards['J'] = 24\n",
    "        self.__deckOfCards['K'] = 24\n",
    "\n",
    "new_dealer = Dealer()\n",
    "new_dealer.playerHit(new_dealer)\n",
    "print(new_dealer)\n"
   ]
  },
  {
   "cell_type": "markdown",
   "metadata": {},
   "source": [
    "## Create a game class to handle the games automatically"
   ]
  },
  {
   "cell_type": "code",
   "execution_count": 32,
   "metadata": {
    "scrolled": false
   },
   "outputs": [],
   "source": [
    "class Game:\n",
    "    \n",
    "    def __init__(self, playerModel, dealerModel):\n",
    "        self.__turn = True # False is dealer turn, True is player turn\n",
    "        self.numberOfGames = 0\n",
    "        self.__seed = random.seed()\n",
    "        self.player = playerModel\n",
    "        self.dealer = dealerModel\n",
    "        self.__state = 'F'\n",
    "    \n",
    "    def printStats(self):\n",
    "        print('Dealer: %f %% Win Rate' % (self.dealer.wins / self.dealer.games_played * 100))\n",
    "        print('Player: %f %% Win Rate' % (self.player.wins / self.player.games_played * 100))\n",
    "    \n",
    "    def resetPlayers(self):\n",
    "        self.player.resetCards()\n",
    "        self.dealer.resetCards()\n",
    "        self.__state = 'F'\n",
    "        \n",
    "    def SimulateGames(self,**kwargs):\n",
    "        for i in range(1, kwargs['n']+1):\n",
    "\n",
    "            self.dealer.playerHit(self.player)\n",
    "            self.dealer.playerHit(self.player)\n",
    "            self.dealer.playerHit(self.dealer)\n",
    "            self.dealer.playerHit(self.dealer)\n",
    "            \n",
    "            playerDecision = self.player.makeDecision(self.player.getValue()) # Returns True if player decides to hit\n",
    "            while (playerDecision == True and self.__state == 'C') or self.__state == 'F':\n",
    "                self.dealer.playerHit(self.player)\n",
    "                self.__state = self.__VerifyStates()\n",
    "                playerDecision = self.player.makeDecision(self.player.getValue())\n",
    "\n",
    "            dealerDecision = self.dealer.makeDecision(self.dealer.getValue()) # Returns False otherwise\n",
    "            while dealerDecision == True and self.__state == 'C':\n",
    "                self.dealer.playerHit(self.dealer)\n",
    "                self.__state = self.__VerifyStates()\n",
    "                dealerDecision = self.dealer.makeDecision(self.dealer.getValue())\n",
    "            \n",
    "            \n",
    "            self.__state = self.__VerifyStates()\n",
    "            \n",
    "            if(self.__state == 'D' or (self.__state == 'C' and self.player.getValue() < self.dealer.getValue())):\n",
    "                # Dealer Wins\n",
    "                self.dealer.updatePlayer(True)\n",
    "                self.player.updatePlayer(False)\n",
    "            elif(self.__state == 'P' or (self.__state == 'C' and self.player.getValue() > self.dealer.getValue())):\n",
    "                # Player Wins\n",
    "                self.dealer.updatePlayer(False)\n",
    "                self.player.updatePlayer(True)\n",
    "            else:\n",
    "                # Tie\n",
    "                self.dealer.updatePlayer(False)\n",
    "                self.player.updatePlayer(False)\n",
    "            \n",
    "            self.resetPlayers()\n",
    "        \n",
    "    def __VerifyStates(self):\n",
    "        # Determine if we should continue the game or not.\n",
    "        # If not, return a code to indicate\n",
    "        player_status = self.player.verifyAmount()\n",
    "        dealer_status = self.dealer.verifyAmount()\n",
    "        if player_status == 'L':\n",
    "            return 'D' # Dealer Wins\n",
    "        elif dealer_status == 'L':\n",
    "            return 'P' # Player Wins\n",
    "        elif player_status == 'W' and dealer_status == 'W':\n",
    "            return 'T' # Tie\n",
    "        else:\n",
    "            return 'C' # Continue\n",
    "    "
   ]
  },
  {
   "cell_type": "markdown",
   "metadata": {},
   "source": [
    "## Models\n",
    "\n",
    "### There are three player models that we want to focus on:\n",
    "\n",
    "1. Random model\n",
    "  - In this model, the decision making is 50/50.\n",
    "  - This is the most basic model where the chance of the player choosing hitting and standing is equal.\n",
    "\n",
    "\n",
    "2. NEAT model\n",
    "   - For this model, we will be using a genetic algorithm.\n",
    "   - The player will keep an array of card values and see what its parents for the values given.\n",
    "   - They will determine whether or not if they should hit or stayed based on the card and their history with it.\n",
    "   \n",
    "   \n",
    "3. Reinforcement learning model\n",
    "   - This model will be using a reward based algorithm, or reinforcement learning.\n",
    "   - The player will receive a reward for winning and a 'punishment' for losing.\n"
   ]
  },
  {
   "cell_type": "markdown",
   "metadata": {},
   "source": [
    "### First, we have to create the \"Brain\" for each model that handles the fitness, showing graphs, etc."
   ]
  },
  {
   "cell_type": "code",
   "execution_count": 39,
   "metadata": {},
   "outputs": [],
   "source": [
    "class Brain():\n",
    "    \n",
    "    # The class in charge of setting a population and printing out fitness and the players\n",
    "    \n",
    "    def __init__(self):\n",
    "        self._population = []\n",
    "    \n",
    "    def getPopulation(self):\n",
    "        return self._population\n",
    "    \n",
    "    def printFitness(self):\n",
    "        average = 0\n",
    "        for x in self._population:\n",
    "            average += x.returnStats();\n",
    "        print(\"Population size:\", len(self._population))\n",
    "        print(\"Average fitness: {}%\".format(round(average/len(self._population)* 100,2)))\n",
    "        highest_fitness = max(self._population, key=lambda player: player.returnStats())\n",
    "        print(\"Highest fitness: {}%\".format(round(highest_fitness.returnStats()*100,2)))\n",
    "        \n",
    "        \n",
    "    def printPlayers(self):\n",
    "        self._population.sort(key= lambda player: player.returnStats())\n",
    "        print(self._population)\n",
    "        average = 0\n",
    "        "
   ]
  },
  {
   "cell_type": "markdown",
   "metadata": {},
   "source": [
    "#### Random Model"
   ]
  },
  {
   "cell_type": "code",
   "execution_count": 34,
   "metadata": {},
   "outputs": [],
   "source": [
    "class RandomBrain(Brain):\n",
    "    \n",
    "    class RandomModel(Player):\n",
    "\n",
    "        def __init__(self):\n",
    "            Player.__init__(self)\n",
    "\n",
    "        def makeDecision(self, oppositeValue):\n",
    "            if random.randint(0,1) == 1:\n",
    "                return True\n",
    "            return False\n",
    "        \n",
    "    def __init__(self):\n",
    "        Brain.__init__(self)\n",
    "    \n",
    "    def addPlayer(self, rand_player):\n",
    "        assert(isinstance(rand_player, self.RandomModel))\n",
    "        self._population.append(rand_player)\n",
    "        \n",
    "    def startSimulation(self, **kwargs):\n",
    "        dealer = Dealer()\n",
    "        \n",
    "        for i in range(0,kwargs['pop']):\n",
    "            self.addPlayer(self.RandomModel())\n",
    "        \n",
    "        for player in self._population:\n",
    "                game = Game(player, dealer)\n",
    "                game.SimulateGames(n=kwargs['games'])\n",
    "            \n",
    "        Brain.printFitness(self)\n",
    "                "
   ]
  },
  {
   "cell_type": "markdown",
   "metadata": {},
   "source": [
    "#### NEAT Model"
   ]
  },
  {
   "cell_type": "code",
   "execution_count": 35,
   "metadata": {},
   "outputs": [],
   "source": [
    "class NeatBrain():\n",
    "    \n",
    "    class NeatModel(Player):\n",
    "    \n",
    "        def __init__(self):\n",
    "            Player.__init__(self)\n",
    "            self.__cardsAndAction = {}\n",
    "\n",
    "        \n",
    "        def makeDecision(self, oppositeValue):\n",
    "            value = Player.getValue(self)\n",
    "            if value not in self.__cardsAndAction:\n",
    "                self.__cardsAndAction[value] = random.randint(0,1)\n",
    "            else:\n",
    "                return self.__cardsAndAction[value]\n",
    "            \n",
    "        def passGenes(self, p1, p2):\n",
    "            for i in range(1,21):\n",
    "                try:\n",
    "                    self.__cardsAndAction[str(i)] = random.choice([p1,p2]).__cardsAndAction[str(i)]\n",
    "                except:\n",
    "                    self.__cardsAndAction[str(i)] = random.choice([True, False])\n",
    "                \n",
    "                if random.random() < .09:\n",
    "                    self.__cardsAndAction[str(i)] = !(random.choice([p1,p2]).__cardsAndAction[str(i)])\n",
    "            \n",
    "    \n",
    "    def __init__(self):\n",
    "        Brain.__init__(self)\n",
    "        \n",
    "    def addPlayer(self, neat):\n",
    "        assert(isinstance(neat, self.NeatModel))\n",
    "        self._population.append(neat)\n",
    "\n",
    "    def selection(self):\n",
    "        self._population.sort(key= lambda player: player.returnStats())\n",
    "        self._population = self._population[len(self._population)-ceil(.3*len(self._population)):]\n",
    "        return self._population\n",
    "    \n",
    "    def createGeneration(self, n):\n",
    "        while(len(self._population) < n):\n",
    "            offspring = self.NeatModel()\n",
    "            p1,p2 = random.choice(self._population), random.choice(self._population)\n",
    "            while(p1 == p2):\n",
    "                p2 = random.choice(self._population)\n",
    "            offspring.passGenes(p1,p2)\n",
    "            self._population.append(offspring)\n",
    "\n",
    "    def startSimulation(self, **kwargs):\n",
    "        dealer = Dealer()\n",
    "        \n",
    "        for i in range(0,kwargs['pop']):\n",
    "            self.addPlayer(self.NeatModel())\n",
    "        \n",
    "        for i in range(1, kwargs['generations']+1):\n",
    "            for player in self._population:\n",
    "                game = Game(player, dealer)\n",
    "                game.SimulateGames(n=kwargs['games'])\n",
    "            self.selection()\n",
    "            self.createGeneration(kwargs['pop'])\n",
    "        \n",
    "        for player in self._population:\n",
    "                game = Game(player, dealer)\n",
    "                game.SimulateGames(n=kwargs['games'])\n",
    "                \n",
    "        Brain.printFitness(self)"
   ]
  },
  {
   "cell_type": "markdown",
   "metadata": {},
   "source": [
    "## Testing the models"
   ]
  },
  {
   "cell_type": "markdown",
   "metadata": {},
   "source": [
    "#### Random Model"
   ]
  },
  {
   "cell_type": "code",
   "execution_count": 41,
   "metadata": {},
   "outputs": [
    {
     "name": "stdout",
     "output_type": "stream",
     "text": [
      "Population size: 500\n",
      "Average fitness: 26.06%\n",
      "Highest fitness: 31.8%\n"
     ]
    }
   ],
   "source": [
    "random_brain = RandomBrain()\n",
    "random_brain.startSimulation(pop=500, games=500)"
   ]
  },
  {
   "cell_type": "markdown",
   "metadata": {},
   "source": [
    "#### NEAT Model"
   ]
  },
  {
   "cell_type": "code",
   "execution_count": 40,
   "metadata": {},
   "outputs": [
    {
     "name": "stdout",
     "output_type": "stream",
     "text": [
      "Population size: 50\n",
      "Average fitness: 30.52%\n",
      "Highest fitness: 46.0%\n"
     ]
    }
   ],
   "source": [
    "neat_brain = NeatBrain()\n",
    "neat_brain.startSimulation(pop=50, games=50, generations=25)"
   ]
  }
 ],
 "metadata": {
  "kernelspec": {
   "display_name": "Python 3",
   "language": "python",
   "name": "python3"
  },
  "language_info": {
   "codemirror_mode": {
    "name": "ipython",
    "version": 3
   },
   "file_extension": ".py",
   "mimetype": "text/x-python",
   "name": "python",
   "nbconvert_exporter": "python",
   "pygments_lexer": "ipython3",
   "version": "3.7.3"
  }
 },
 "nbformat": 4,
 "nbformat_minor": 2
}
